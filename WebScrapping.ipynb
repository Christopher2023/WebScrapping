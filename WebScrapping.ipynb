{
 "cells": [
  {
   "cell_type": "code",
   "execution_count": 20,
   "metadata": {},
   "outputs": [],
   "source": [
    "from pprint import PrettyPrinter\n",
    "from bs4 import BeautifulSoup\n",
    "import requests"
   ]
  },
  {
   "cell_type": "code",
   "execution_count": 21,
   "metadata": {},
   "outputs": [],
   "source": [
    "# Used for a more esthetic print\n",
    "pp = PrettyPrinter(indent = 4)\n",
    "pp = pp.pprint"
   ]
  },
  {
   "cell_type": "code",
   "execution_count": 22,
   "metadata": {},
   "outputs": [],
   "source": [
    "demo_content = \"\"\"<div class=\"quote\">\n",
    "\n",
    "        <span class=\"text\">“Imperfection is beauty, madness is genius and it's better to be absolutely ridiculous than absolutely boring.”</span>\n",
    "        <span>by <small class=\"author\">Marilyn Monroe</small>\n",
    "        <a href=\"/author/Marilyn-Monroe\">(about)</a>\n",
    "        </span>\n",
    "        <p>Bonjour</p>\n",
    "    </div>\"\"\""
   ]
  },
  {
   "cell_type": "code",
   "execution_count": 23,
   "metadata": {},
   "outputs": [],
   "source": [
    "soup = BeautifulSoup(demo_content)"
   ]
  },
  {
   "cell_type": "code",
   "execution_count": 24,
   "metadata": {},
   "outputs": [
    {
     "name": "stdout",
     "output_type": "stream",
     "text": [
      "[   <span class=\"text\">“Imperfection is beauty, madness is genius and it's better to be absolutely ridiculous than absolutely boring.”</span>,\n",
      "    <span>by <small class=\"author\">Marilyn Monroe</small>\n",
      "<a href=\"/author/Marilyn-Monroe\">(about)</a>\n",
      "</span>]\n"
     ]
    }
   ],
   "source": [
    "#Here I find all the spans in my previous demo\n",
    "spans = soup.find_all('span')\n",
    "pp(spans)"
   ]
  },
  {
   "cell_type": "code",
   "execution_count": 25,
   "metadata": {},
   "outputs": [
    {
     "name": "stdout",
     "output_type": "stream",
     "text": [
      "[   <span class=\"text\">“Imperfection is beauty, madness is genius and it's better to be absolutely ridiculous than absolutely boring.”</span>]\n"
     ]
    }
   ],
   "source": [
    "#Here I specify which span I specifically want using some details\n",
    "class_text_spans = soup.find_all('span',{'class':'text'})\n",
    "pp(class_text_spans)"
   ]
  },
  {
   "cell_type": "code",
   "execution_count": 26,
   "metadata": {},
   "outputs": [
    {
     "name": "stdout",
     "output_type": "stream",
     "text": [
      "[<small class=\"author\">Marilyn Monroe</small>]\n"
     ]
    }
   ],
   "source": [
    "smalls = []\n",
    "for span in spans : \n",
    "    smalls += span.find_all(\"small\")\n",
    "\n",
    "print(smalls)"
   ]
  },
  {
   "cell_type": "markdown",
   "metadata": {},
   "source": [
    "# Scrapping on a Website"
   ]
  },
  {
   "cell_type": "code",
   "execution_count": 29,
   "metadata": {},
   "outputs": [],
   "source": [
    "website = \"https://quotes.toscrape.com\""
   ]
  },
  {
   "cell_type": "code",
   "execution_count": 38,
   "metadata": {},
   "outputs": [],
   "source": [
    "data = requests.get(website)\n",
    "soup = BeautifulSoup(data._content)"
   ]
  },
  {
   "cell_type": "code",
   "execution_count": 67,
   "metadata": {},
   "outputs": [
    {
     "name": "stdout",
     "output_type": "stream",
     "text": [
      "[   'Albert Einstein : “The world as we have created it is a process of our '\n",
      "    'thinking. It cannot be changed without changing our thinking.”',\n",
      "    'J.K. Rowling : “It is our choices, Harry, that show what we truly are, '\n",
      "    'far more than our abilities.”',\n",
      "    'Albert Einstein : “There are only two ways to live your life. One is as '\n",
      "    'though nothing is a miracle. The other is as though everything is a '\n",
      "    'miracle.”',\n",
      "    'Jane Austen : “The person, be it gentleman or lady, who has not pleasure '\n",
      "    'in a good novel, must be intolerably stupid.”',\n",
      "    \"Marilyn Monroe : “Imperfection is beauty, madness is genius and it's \"\n",
      "    'better to be absolutely ridiculous than absolutely boring.”',\n",
      "    'Albert Einstein : “Try not to become a man of success. Rather become a '\n",
      "    'man of value.”',\n",
      "    'André Gide : “It is better to be hated for what you are than to be loved '\n",
      "    'for what you are not.”',\n",
      "    \"Thomas A. Edison : “I have not failed. I've just found 10,000 ways that \"\n",
      "    \"won't work.”\",\n",
      "    'Eleanor Roosevelt : “A woman is like a tea bag; you never know how strong '\n",
      "    \"it is until it's in hot water.”\",\n",
      "    'Steve Martin : “A day without sunshine is like, you know, night.”']\n"
     ]
    }
   ],
   "source": [
    "quotes_scrapped = []\n",
    "quotes =  soup.find_all(\"div\",{\"class\":\"quote\"})\n",
    "for quote in quotes:\n",
    "    txt = quote.find_all('span', {'class':'text'})\n",
    "    auth = quote.find_all('small',{'class' : 'author'})\n",
    "    a = ' '.join([author.text for author in auth])\n",
    "    q = ' '.join([t.text for t in txt])\n",
    "    infos = \"{} : {}\".format(a,q)\n",
    "    quotes_scrapped += [infos]\n",
    "pp(quotes_scrapped)"
   ]
  }
 ],
 "metadata": {
  "kernelspec": {
   "display_name": "Python 3.9.13 64-bit",
   "language": "python",
   "name": "python3"
  },
  "language_info": {
   "codemirror_mode": {
    "name": "ipython",
    "version": 3
   },
   "file_extension": ".py",
   "mimetype": "text/x-python",
   "name": "python",
   "nbconvert_exporter": "python",
   "pygments_lexer": "ipython3",
   "version": "3.9.13"
  },
  "orig_nbformat": 4,
  "vscode": {
   "interpreter": {
    "hash": "aee8b7b246df8f9039afb4144a1f6fd8d2ca17a180786b69acc140d282b71a49"
   }
  }
 },
 "nbformat": 4,
 "nbformat_minor": 2
}
